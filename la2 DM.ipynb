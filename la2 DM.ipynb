{
 "cells": [
  {
   "cell_type": "code",
   "execution_count": 58,
   "id": "b54e9377",
   "metadata": {
    "execution": {
     "iopub.execute_input": "2021-11-29T07:49:38.963687Z",
     "iopub.status.busy": "2021-11-29T07:49:38.960159Z",
     "iopub.status.idle": "2021-11-29T07:49:41.131600Z",
     "shell.execute_reply": "2021-11-29T07:49:41.132185Z",
     "shell.execute_reply.started": "2021-11-29T07:36:41.090948Z"
    },
    "papermill": {
     "duration": 2.210999,
     "end_time": "2021-11-29T07:49:41.132501",
     "exception": false,
     "start_time": "2021-11-29T07:49:38.921502",
     "status": "completed"
    },
    "tags": []
   },
   "outputs": [],
   "source": [
    "import warnings\n",
    "warnings.filterwarnings('ignore')\n",
    "from itertools import chain\n",
    "import matplotlib.pyplot as plt\n",
    "import nltk\n",
    "nltk.download('stopwords', quiet=True)\n",
    "nltk.download('punkt', quiet=True)\n",
    "from nltk.corpus import stopwords\n",
    "from nltk.tokenize import word_tokenize\n",
    "import numpy as np\n",
    "import pandas as pd\n",
    "import seaborn as sns\n",
    "from sklearn import feature_extraction\n",
    "from sklearn.metrics import confusion_matrix\n",
    "from sklearn import model_selection as ms\n",
    "from sklearn import naive_bayes\n",
    "from sklearn import preprocessing\n",
    "from sklearn.metrics import confusion_matrix\n",
    "import string"
   ]
  },
  {
   "cell_type": "markdown",
   "id": "78a3ed77",
   "metadata": {
    "papermill": {
     "duration": 0.030766,
     "end_time": "2021-11-29T07:49:41.194876",
     "exception": false,
     "start_time": "2021-11-29T07:49:41.164110",
     "status": "completed"
    },
    "tags": []
   },
   "source": [
    "<h3>Read in data, add header row and display first 5 rows:</h3>"
   ]
  },
  {
   "cell_type": "code",
   "execution_count": 59,
   "id": "fc8b1ef3",
   "metadata": {
    "execution": {
     "iopub.execute_input": "2021-11-29T07:49:41.258236Z",
     "iopub.status.busy": "2021-11-29T07:49:41.257500Z",
     "iopub.status.idle": "2021-11-29T07:49:41.508358Z",
     "shell.execute_reply": "2021-11-29T07:49:41.507786Z",
     "shell.execute_reply.started": "2021-11-29T07:36:43.302227Z"
    },
    "papermill": {
     "duration": 0.282907,
     "end_time": "2021-11-29T07:49:41.508500",
     "exception": false,
     "start_time": "2021-11-29T07:49:41.225593",
     "status": "completed"
    },
    "tags": []
   },
   "outputs": [
    {
     "name": "stdout",
     "output_type": "stream",
     "text": [
      "                                cleaned_website_text Category\n",
      "0  official site good hotel accommodation big sav...   Travel\n",
      "1  expedia hotel book sites like use vacation wor...   Travel\n",
      "2  tripadvisor hotel book sites like previously d...   Travel\n",
      "3  cheap flights search compare flights momondo f...   Travel\n",
      "4  bot create free account create free account si...   Travel\n"
     ]
    }
   ],
   "source": [
    "text_df = pd.read_csv('./website_classification.xls')\n",
    "#deleting 2 unecessary columns\n",
    "del text_df['Unnamed: 0'], text_df['website_url']\n",
    "print(text_df.head(5))"
   ]
  },
  {
   "cell_type": "markdown",
   "id": "a5ee945e",
   "metadata": {
    "papermill": {
     "duration": 0.029692,
     "end_time": "2021-11-29T07:49:41.706792",
     "exception": false,
     "start_time": "2021-11-29T07:49:41.677100",
     "status": "completed"
    },
    "tags": []
   },
   "source": [
    "<h4>Unique categories:</h4>"
   ]
  },
  {
   "cell_type": "code",
   "execution_count": 60,
   "id": "cc7d1294",
   "metadata": {
    "execution": {
     "iopub.execute_input": "2021-11-29T07:49:41.775579Z",
     "iopub.status.busy": "2021-11-29T07:49:41.774750Z",
     "iopub.status.idle": "2021-11-29T07:49:41.778067Z",
     "shell.execute_reply": "2021-11-29T07:49:41.778558Z",
     "shell.execute_reply.started": "2021-11-29T07:36:43.605817Z"
    },
    "papermill": {
     "duration": 0.041515,
     "end_time": "2021-11-29T07:49:41.778727",
     "exception": false,
     "start_time": "2021-11-29T07:49:41.737212",
     "status": "completed"
    },
    "tags": []
   },
   "outputs": [
    {
     "name": "stdout",
     "output_type": "stream",
     "text": [
      "['Travel', 'Social Networking and Messaging', 'News', 'Streaming Services', 'Sports', 'Photography', 'Law and Government', 'Health and Fitness', 'Games', 'E-Commerce', 'Forums', 'Food', 'Education', 'Computers and Technology', 'Business/Corporate', 'Adult']\n",
      "(1408, 2)\n"
     ]
    }
   ],
   "source": [
    "categories = list(text_df['Category'].unique())\n",
    "print(categories)\n",
    "print(text_df.shape)"
   ]
  },
  {
   "cell_type": "markdown",
   "id": "cd6457c1",
   "metadata": {
    "papermill": {
     "duration": 0.031402,
     "end_time": "2021-11-29T07:49:41.912359",
     "exception": false,
     "start_time": "2021-11-29T07:49:41.880957",
     "status": "completed"
    },
    "tags": []
   },
   "source": [
    "<h4>We have 1408 rows and 4 columns</h4>"
   ]
  },
  {
   "cell_type": "code",
   "execution_count": 61,
   "id": "b3968664",
   "metadata": {
    "execution": {
     "iopub.execute_input": "2021-11-29T07:49:41.979179Z",
     "iopub.status.busy": "2021-11-29T07:49:41.978280Z",
     "iopub.status.idle": "2021-11-29T07:49:42.007013Z",
     "shell.execute_reply": "2021-11-29T07:49:42.007564Z",
     "shell.execute_reply.started": "2021-11-29T07:36:43.632065Z"
    },
    "papermill": {
     "duration": 0.063508,
     "end_time": "2021-11-29T07:49:42.007753",
     "exception": false,
     "start_time": "2021-11-29T07:49:41.944245",
     "status": "completed"
    },
    "tags": []
   },
   "outputs": [
    {
     "name": "stdout",
     "output_type": "stream",
     "text": [
      "1375\n"
     ]
    }
   ],
   "source": [
    "cleaned_website_text = list(text_df['cleaned_website_text'].unique())\n",
    "print(len(cleaned_website_text))"
   ]
  },
  {
   "cell_type": "markdown",
   "id": "3d5e5ba3",
   "metadata": {
    "papermill": {
     "duration": 0.030693,
     "end_time": "2021-11-29T07:49:42.069345",
     "exception": false,
     "start_time": "2021-11-29T07:49:42.038652",
     "status": "completed"
    },
    "tags": []
   },
   "source": [
    "<h4>There are 1375 unique rows</h4>"
   ]
  },
  {
   "cell_type": "markdown",
   "id": "3b112d6a",
   "metadata": {
    "papermill": {
     "duration": 0.031657,
     "end_time": "2021-11-29T07:49:42.131946",
     "exception": false,
     "start_time": "2021-11-29T07:49:42.100289",
     "status": "completed"
    },
    "tags": []
   },
   "source": [
    "<h3>Number of rows by category</h3>"
   ]
  },
  {
   "cell_type": "code",
   "execution_count": 62,
   "id": "ee8f7464",
   "metadata": {
    "execution": {
     "iopub.execute_input": "2021-11-29T07:49:42.203183Z",
     "iopub.status.busy": "2021-11-29T07:49:42.199148Z",
     "iopub.status.idle": "2021-11-29T07:49:42.209120Z",
     "shell.execute_reply": "2021-11-29T07:49:42.209578Z",
     "shell.execute_reply.started": "2021-11-29T07:36:43.667501Z"
    },
    "papermill": {
     "duration": 0.044913,
     "end_time": "2021-11-29T07:49:42.209772",
     "exception": false,
     "start_time": "2021-11-29T07:49:42.164859",
     "status": "completed"
    },
    "tags": []
   },
   "outputs": [
    {
     "name": "stdout",
     "output_type": "stream",
     "text": [
      "Education                          114\n",
      "Business/Corporate                 109\n",
      "Travel                             107\n",
      "Streaming Services                 105\n",
      "Sports                             104\n",
      "E-Commerce                         102\n",
      "Games                               98\n",
      "News                                96\n",
      "Health and Fitness                  96\n",
      "Photography                         93\n",
      "Computers and Technology            93\n",
      "Food                                92\n",
      "Law and Government                  84\n",
      "Social Networking and Messaging     83\n",
      "Forums                              16\n",
      "Adult                               16\n",
      "Name: Category, dtype: int64\n"
     ]
    }
   ],
   "source": [
    "print(text_df['Category'].value_counts())"
   ]
  },
  {
   "cell_type": "code",
   "execution_count": 63,
   "id": "4b014fde",
   "metadata": {},
   "outputs": [],
   "source": [
    "text_df.drop(text_df[text_df['Category']=='Forums'].index ,inplace = True)\n",
    "text_df.drop(text_df[text_df['Category']=='Adult'].index ,inplace = True)"
   ]
  },
  {
   "cell_type": "markdown",
   "id": "c1b22457",
   "metadata": {
    "papermill": {
     "duration": 0.032867,
     "end_time": "2021-11-29T07:49:42.275168",
     "exception": false,
     "start_time": "2021-11-29T07:49:42.242301",
     "status": "completed"
    },
    "tags": []
   },
   "source": [
    "<h3>Number of <B><I>unique</I></B> rows by category</h3>"
   ]
  },
  {
   "cell_type": "code",
   "execution_count": 64,
   "id": "2adb9294",
   "metadata": {
    "execution": {
     "iopub.execute_input": "2021-11-29T07:49:42.342949Z",
     "iopub.status.busy": "2021-11-29T07:49:42.341910Z",
     "iopub.status.idle": "2021-11-29T07:49:42.379435Z",
     "shell.execute_reply": "2021-11-29T07:49:42.380035Z",
     "shell.execute_reply.started": "2021-11-29T07:36:43.678413Z"
    },
    "papermill": {
     "duration": 0.073624,
     "end_time": "2021-11-29T07:49:42.380245",
     "exception": false,
     "start_time": "2021-11-29T07:49:42.306621",
     "status": "completed"
    },
    "tags": []
   },
   "outputs": [
    {
     "name": "stdout",
     "output_type": "stream",
     "text": [
      "{'Travel': 106, 'Social Networking and Messaging': 79, 'News': 92, 'Streaming Services': 104, 'Sports': 100, 'Photography': 87, 'Law and Government': 83, 'Health and Fitness': 89, 'Games': 98, 'E-Commerce': 101, 'Forums': 0, 'Food': 92, 'Education': 114, 'Computers and Technology': 90, 'Business/Corporate': 108, 'Adult': 0}\n"
     ]
    }
   ],
   "source": [
    "cat_unique_val = {}\n",
    "\n",
    "for category in categories:\n",
    "    mask = text_df['Category'] == category\n",
    "    list_length = len(list(text_df[mask]['cleaned_website_text'].unique()))\n",
    "    cat_unique_val.update({category: list_length})\n",
    "\n",
    "print(cat_unique_val)"
   ]
  },
  {
   "cell_type": "markdown",
   "id": "505a0208",
   "metadata": {
    "papermill": {
     "duration": 0.030999,
     "end_time": "2021-11-29T07:49:42.444075",
     "exception": false,
     "start_time": "2021-11-29T07:49:42.413076",
     "status": "completed"
    },
    "tags": []
   },
   "source": [
    "<h3>Sort dictionary in descending order</h3>"
   ]
  },
  {
   "cell_type": "code",
   "execution_count": 38,
   "id": "af4b3a57",
   "metadata": {
    "execution": {
     "iopub.execute_input": "2021-11-29T07:49:42.510494Z",
     "iopub.status.busy": "2021-11-29T07:49:42.509449Z",
     "iopub.status.idle": "2021-11-29T07:49:42.516454Z",
     "shell.execute_reply": "2021-11-29T07:49:42.517037Z",
     "shell.execute_reply.started": "2021-11-29T07:36:43.721627Z"
    },
    "papermill": {
     "duration": 0.041971,
     "end_time": "2021-11-29T07:49:42.517215",
     "exception": false,
     "start_time": "2021-11-29T07:49:42.475244",
     "status": "completed"
    },
    "tags": []
   },
   "outputs": [
    {
     "name": "stdout",
     "output_type": "stream",
     "text": [
      "{'Education': 114, 'Business/Corporate': 108, 'Travel': 106, 'Streaming Services': 104, 'E-Commerce': 101, 'Sports': 100, 'Games': 98, 'Food': 92, 'News': 92, 'Computers and Technology': 90, 'Health and Fitness': 89, 'Photography': 87, 'Law and Government': 83, 'Social Networking and Messaging': 79, 'Adult': 0, 'Forums': 0}\n"
     ]
    }
   ],
   "source": [
    "cat_unique_val_sorted = {}\n",
    "sorted_keys = sorted(cat_unique_val, key=cat_unique_val.get)\n",
    "\n",
    "for w in list(reversed(sorted_keys)):\n",
    "    cat_unique_val_sorted[w] = cat_unique_val[w]\n",
    "    \n",
    "# cat_unique_val_sorted\n",
    "print(cat_unique_val_sorted)"
   ]
  },
  {
   "cell_type": "markdown",
   "id": "2067f0a9",
   "metadata": {
    "papermill": {
     "duration": 0.031227,
     "end_time": "2021-11-29T07:49:42.580157",
     "exception": false,
     "start_time": "2021-11-29T07:49:42.548930",
     "status": "completed"
    },
    "tags": []
   },
   "source": [
    "<h3>Dropping duplicate rows from each category</h3>"
   ]
  },
  {
   "cell_type": "code",
   "execution_count": 39,
   "id": "2d284953",
   "metadata": {
    "execution": {
     "iopub.execute_input": "2021-11-29T07:49:42.648923Z",
     "iopub.status.busy": "2021-11-29T07:49:42.646412Z",
     "iopub.status.idle": "2021-11-29T07:49:42.670702Z",
     "shell.execute_reply": "2021-11-29T07:49:42.671306Z",
     "shell.execute_reply.started": "2021-11-29T07:36:43.732174Z"
    },
    "papermill": {
     "duration": 0.059226,
     "end_time": "2021-11-29T07:49:42.671511",
     "exception": false,
     "start_time": "2021-11-29T07:49:42.612285",
     "status": "completed"
    },
    "tags": []
   },
   "outputs": [
    {
     "name": "stdout",
     "output_type": "stream",
     "text": [
      "(1343, 2)\n"
     ]
    }
   ],
   "source": [
    "text_df = text_df.drop_duplicates()\n",
    "print(text_df.shape)"
   ]
  },
  {
   "cell_type": "markdown",
   "id": "0a34c54f",
   "metadata": {
    "papermill": {
     "duration": 0.032377,
     "end_time": "2021-11-29T07:49:42.812235",
     "exception": false,
     "start_time": "2021-11-29T07:49:42.779858",
     "status": "completed"
    },
    "tags": []
   },
   "source": [
    "<h3>Text cleaning</h3>"
   ]
  },
  {
   "cell_type": "markdown",
   "id": "1c9808a5",
   "metadata": {
    "papermill": {
     "duration": 0.03156,
     "end_time": "2021-11-29T07:49:42.876926",
     "exception": false,
     "start_time": "2021-11-29T07:49:42.845366",
     "status": "completed"
    },
    "tags": []
   },
   "source": [
    "<p>Removing stopwords and punctuation from <B><I>\"cleaned_website_text\" column</I></B></p>"
   ]
  },
  {
   "cell_type": "code",
   "execution_count": 40,
   "id": "0c1747df",
   "metadata": {
    "execution": {
     "iopub.execute_input": "2021-11-29T07:49:42.944425Z",
     "iopub.status.busy": "2021-11-29T07:49:42.943419Z",
     "iopub.status.idle": "2021-11-29T07:49:42.949975Z",
     "shell.execute_reply": "2021-11-29T07:49:42.950499Z",
     "shell.execute_reply.started": "2021-11-29T07:36:43.768723Z"
    },
    "papermill": {
     "duration": 0.041931,
     "end_time": "2021-11-29T07:49:42.950693",
     "exception": false,
     "start_time": "2021-11-29T07:49:42.908762",
     "status": "completed"
    },
    "tags": []
   },
   "outputs": [],
   "source": [
    "stop_words = set(stopwords.words('english'))\n",
    "regular_punct = list(string.punctuation)"
   ]
  },
  {
   "cell_type": "markdown",
   "id": "797b5533",
   "metadata": {
    "papermill": {
     "duration": 0.031991,
     "end_time": "2021-11-29T07:49:43.087149",
     "exception": false,
     "start_time": "2021-11-29T07:49:43.055158",
     "status": "completed"
    },
    "tags": []
   },
   "source": [
    "<h3>According to title text in our dataframe column is cleared, but in any case we will aplly function to remove posssible stopwords and punctuation</h3>"
   ]
  },
  {
   "cell_type": "code",
   "execution_count": 41,
   "id": "43056066",
   "metadata": {
    "execution": {
     "iopub.execute_input": "2021-11-29T07:49:43.160932Z",
     "iopub.status.busy": "2021-11-29T07:49:43.160054Z",
     "iopub.status.idle": "2021-11-29T07:49:43.163361Z",
     "shell.execute_reply": "2021-11-29T07:49:43.163876Z",
     "shell.execute_reply.started": "2021-11-29T07:36:43.791053Z"
    },
    "papermill": {
     "duration": 0.04377,
     "end_time": "2021-11-29T07:49:43.164060",
     "exception": false,
     "start_time": "2021-11-29T07:49:43.120290",
     "status": "completed"
    },
    "tags": []
   },
   "outputs": [
    {
     "name": "stdout",
     "output_type": "stream",
     "text": [
      "0       official site good hotel accommodation big sav...\n",
      "1       expedia hotel book sites like use vacation wor...\n",
      "2       tripadvisor hotel book sites like previously d...\n",
      "3       cheap flights search compare flights momondo f...\n",
      "4       bot create free account create free account si...\n",
      "                              ...                        \n",
      "1387    electroshops home theater decor interiors seat...\n",
      "1388    clean ridge soap company clean ridge soap comp...\n",
      "1389    home page pet crafts exquisitely piece handcut...\n",
      "1390    home theater marketplace home theater seating ...\n",
      "1391    thrive market healthy living easy buy healthy ...\n",
      "Name: cleaned_website_text, Length: 1343, dtype: object\n"
     ]
    }
   ],
   "source": [
    "print(text_df['cleaned_website_text'])"
   ]
  },
  {
   "cell_type": "code",
   "execution_count": 42,
   "id": "203c2cb2",
   "metadata": {
    "execution": {
     "iopub.execute_input": "2021-11-29T07:49:43.234780Z",
     "iopub.status.busy": "2021-11-29T07:49:43.233580Z",
     "iopub.status.idle": "2021-11-29T07:49:43.239184Z",
     "shell.execute_reply": "2021-11-29T07:49:43.239678Z",
     "shell.execute_reply.started": "2021-11-29T07:36:43.805695Z"
    },
    "papermill": {
     "duration": 0.042874,
     "end_time": "2021-11-29T07:49:43.239888",
     "exception": false,
     "start_time": "2021-11-29T07:49:43.197014",
     "status": "completed"
    },
    "tags": []
   },
   "outputs": [],
   "source": [
    "def text_preprocessing(x):\n",
    "    filtered_sentence = []\n",
    "    word_tokens = word_tokenize(x)\n",
    "    \n",
    "    for w in word_tokens:\n",
    "        if w not in chain(stop_words, regular_punct):\n",
    "            # we make sure that all words are written in lowercase\n",
    "            filtered_sentence.append(w.lower())\n",
    "    \n",
    "    # Converting a list of strings back to a string\n",
    "    filtered_sentence = \" \".join(filtered_sentence)\n",
    "    return filtered_sentence"
   ]
  },
  {
   "cell_type": "code",
   "execution_count": 43,
   "id": "8df2bef6",
   "metadata": {
    "execution": {
     "iopub.execute_input": "2021-11-29T07:49:43.311478Z",
     "iopub.status.busy": "2021-11-29T07:49:43.310398Z",
     "iopub.status.idle": "2021-11-29T07:50:00.856950Z",
     "shell.execute_reply": "2021-11-29T07:50:00.856287Z",
     "shell.execute_reply.started": "2021-11-29T07:36:43.812943Z"
    },
    "papermill": {
     "duration": 17.583159,
     "end_time": "2021-11-29T07:50:00.857120",
     "exception": false,
     "start_time": "2021-11-29T07:49:43.273961",
     "status": "completed"
    },
    "scrolled": false,
    "tags": []
   },
   "outputs": [
    {
     "name": "stdout",
     "output_type": "stream",
     "text": [
      "0       official site good hotel accommodation big sav...\n",
      "1       expedia hotel book sites like use vacation wor...\n",
      "2       tripadvisor hotel book sites like previously d...\n",
      "3       cheap flights search compare flights momondo f...\n",
      "4       bot create free account create free account si...\n",
      "                              ...                        \n",
      "1387    electroshops home theater decor interiors seat...\n",
      "1388    clean ridge soap company clean ridge soap comp...\n",
      "1389    home page pet crafts exquisitely piece handcut...\n",
      "1390    home theater marketplace home theater seating ...\n",
      "1391    thrive market healthy living easy buy healthy ...\n",
      "Name: cleaned_website_text, Length: 1343, dtype: object\n"
     ]
    }
   ],
   "source": [
    "text_df['cleaned_website_text'] = text_df['cleaned_website_text'].apply(text_preprocessing)\n",
    "print(text_df['cleaned_website_text'])\n",
    "#print(text_df['cleaned_website_text'].values)"
   ]
  },
  {
   "cell_type": "markdown",
   "id": "2c7b103d",
   "metadata": {
    "papermill": {
     "duration": 0.039486,
     "end_time": "2021-11-29T07:50:01.012853",
     "exception": false,
     "start_time": "2021-11-29T07:50:00.973367",
     "status": "completed"
    },
    "tags": []
   },
   "source": [
    "<h3>Preprocessing the data</h3>"
   ]
  },
  {
   "cell_type": "markdown",
   "id": "275de256",
   "metadata": {
    "papermill": {
     "duration": 0.04675,
     "end_time": "2021-11-29T07:50:01.101929",
     "exception": false,
     "start_time": "2021-11-29T07:50:01.055179",
     "status": "completed"
    },
    "tags": []
   },
   "source": [
    "<h4>One of the simplest\n",
    "methods of encoding text data is by word count: For each phrase, you count the\n",
    "number of occurrences of each word within it. In scikit-learn, this is easily done using\n",
    "CountVectorizer:</h4>"
   ]
  },
  {
   "cell_type": "code",
   "execution_count": 44,
   "id": "95554e0d",
   "metadata": {},
   "outputs": [
    {
     "name": "stdout",
     "output_type": "stream",
     "text": [
      "(1343,)\n",
      "(1343, 58533)\n"
     ]
    }
   ],
   "source": [
    "print(text_df['cleaned_website_text'].shape)\n",
    "counts = feature_extraction.text.CountVectorizer()\n",
    "X = counts.fit_transform(text_df['cleaned_website_text'].values)\n",
    "print(X.shape)"
   ]
  },
  {
   "cell_type": "code",
   "execution_count": null,
   "id": "9b004ead",
   "metadata": {},
   "outputs": [],
   "source": []
  },
  {
   "cell_type": "code",
   "execution_count": 45,
   "id": "5e617398",
   "metadata": {},
   "outputs": [
    {
     "name": "stdout",
     "output_type": "stream",
     "text": [
      "(1343, 58533)\n",
      "<class 'scipy.sparse._csr.csr_matrix'>\n"
     ]
    }
   ],
   "source": [
    "print(X.shape)\n",
    "print(type(X))"
   ]
  },
  {
   "cell_type": "code",
   "execution_count": 46,
   "id": "8cf05efc",
   "metadata": {
    "execution": {
     "iopub.execute_input": "2021-11-29T07:50:02.783544Z",
     "iopub.status.busy": "2021-11-29T07:50:02.782838Z",
     "iopub.status.idle": "2021-11-29T07:50:02.786065Z",
     "shell.execute_reply": "2021-11-29T07:50:02.785494Z",
     "shell.execute_reply.started": "2021-11-29T07:37:02.752597Z"
    },
    "papermill": {
     "duration": 0.041186,
     "end_time": "2021-11-29T07:50:02.786217",
     "exception": false,
     "start_time": "2021-11-29T07:50:02.745031",
     "status": "completed"
    },
    "tags": []
   },
   "outputs": [
    {
     "name": "stdout",
     "output_type": "stream",
     "text": [
      "['Travel' 'Travel' 'Travel' ... 'Business/Corporate' 'Business/Corporate'\n",
      " 'Business/Corporate']\n"
     ]
    }
   ],
   "source": [
    "y = text_df['Category'].values\n",
    "print(y)"
   ]
  },
  {
   "cell_type": "markdown",
   "id": "314ad410",
   "metadata": {
    "papermill": {
     "duration": 0.035498,
     "end_time": "2021-11-29T07:50:02.855929",
     "exception": false,
     "start_time": "2021-11-29T07:50:02.820431",
     "status": "completed"
    },
    "tags": []
   },
   "source": [
    "\n",
    "<h4>Training a normal Bayes classifier</h4>"
   ]
  },
  {
   "cell_type": "code",
   "execution_count": 47,
   "id": "1eca3165",
   "metadata": {
    "execution": {
     "iopub.execute_input": "2021-11-29T07:50:02.928529Z",
     "iopub.status.busy": "2021-11-29T07:50:02.927794Z",
     "iopub.status.idle": "2021-11-29T07:50:02.937923Z",
     "shell.execute_reply": "2021-11-29T07:50:02.938511Z",
     "shell.execute_reply.started": "2021-11-29T07:37:02.758896Z"
    },
    "papermill": {
     "duration": 0.048947,
     "end_time": "2021-11-29T07:50:02.938714",
     "exception": false,
     "start_time": "2021-11-29T07:50:02.889767",
     "status": "completed"
    },
    "tags": []
   },
   "outputs": [
    {
     "name": "stdout",
     "output_type": "stream",
     "text": [
      "MultinomialNB()\n",
      "Train score: 0.9897579143389199\n",
      "Test score: 0.9070631970260223\n"
     ]
    }
   ],
   "source": [
    "X_train, X_test, y_train, y_test = ms.train_test_split(X, y, test_size=0.2, random_state=42)\n",
    "model_naive = naive_bayes.MultinomialNB()\n",
    "print(model_naive.fit(X_train, y_train))\n",
    "print(\"Train score:\",model_naive.score(X_train, y_train))\n",
    "print(\"Test score:\",model_naive.score(X_test, y_test))"
   ]
  },
  {
   "cell_type": "code",
   "execution_count": 48,
   "id": "465d2bee",
   "metadata": {
    "execution": {
     "iopub.execute_input": "2021-11-29T07:50:03.015082Z",
     "iopub.status.busy": "2021-11-29T07:50:03.014327Z",
     "iopub.status.idle": "2021-11-29T07:50:03.084958Z",
     "shell.execute_reply": "2021-11-29T07:50:03.085539Z",
     "shell.execute_reply.started": "2021-11-29T07:37:02.777901Z"
    },
    "papermill": {
     "duration": 0.112753,
     "end_time": "2021-11-29T07:50:03.085719",
     "exception": false,
     "start_time": "2021-11-29T07:50:02.972966",
     "status": "completed"
    },
    "tags": []
   },
   "outputs": [
    {
     "name": "stdout",
     "output_type": "stream",
     "text": [
      "['Games' 'News' 'Social Networking and Messaging' 'Photography' 'Food'\n",
      " 'Sports' 'Business/Corporate' 'Computers and Technology' 'Photography'\n",
      " 'Health and Fitness' 'Education' 'Games' 'Travel' 'Education' 'Food'\n",
      " 'Computers and Technology' 'Games' 'Health and Fitness' 'News' 'News'\n",
      " 'Law and Government' 'Food' 'Computers and Technology' 'Travel'\n",
      " 'Photography' 'Law and Government' 'E-Commerce' 'Games' 'News'\n",
      " 'Computers and Technology' 'Social Networking and Messaging' 'Education'\n",
      " 'News' 'Streaming Services' 'Food' 'Sports' 'Sports' 'Law and Government'\n",
      " 'News' 'Travel' 'Travel' 'Education' 'Sports' 'Streaming Services'\n",
      " 'Health and Fitness' 'Computers and Technology' 'Travel'\n",
      " 'Social Networking and Messaging' 'Streaming Services'\n",
      " 'Business/Corporate' 'Photography' 'Law and Government' 'Food'\n",
      " 'Business/Corporate' 'Photography' 'Sports' 'Travel'\n",
      " 'Social Networking and Messaging' 'Health and Fitness'\n",
      " 'Law and Government' 'E-Commerce' 'Computers and Technology'\n",
      " 'Photography' 'Social Networking and Messaging' 'E-Commerce' 'Travel'\n",
      " 'Business/Corporate' 'Health and Fitness' 'Photography'\n",
      " 'Health and Fitness' 'Travel' 'Education' 'Law and Government'\n",
      " 'Education' 'Sports' 'Streaming Services' 'Law and Government'\n",
      " 'Education' 'Sports' 'E-Commerce' 'Social Networking and Messaging'\n",
      " 'Sports' 'Social Networking and Messaging' 'Business/Corporate' 'News'\n",
      " 'Games' 'Computers and Technology' 'Games' 'Food' 'Health and Fitness'\n",
      " 'Photography' 'Law and Government' 'Education' 'Computers and Technology'\n",
      " 'Education' 'Health and Fitness' 'Photography' 'News'\n",
      " 'Business/Corporate' 'News' 'Sports' 'Travel' 'Photography'\n",
      " 'Computers and Technology' 'Social Networking and Messaging' 'Food'\n",
      " 'Food' 'Games' 'Health and Fitness' 'Travel' 'Games' 'News' 'Photography'\n",
      " 'Travel' 'Sports' 'Food' 'Streaming Services' 'Business/Corporate'\n",
      " 'Travel' 'Law and Government' 'Law and Government' 'Food'\n",
      " 'Business/Corporate' 'Travel' 'Business/Corporate' 'Sports'\n",
      " 'Computers and Technology' 'Business/Corporate' 'Food' 'Sports'\n",
      " 'Business/Corporate' 'Sports' 'Sports' 'E-Commerce' 'Travel'\n",
      " 'Photography' 'Education' 'Food' 'Business/Corporate'\n",
      " 'Law and Government' 'Food' 'Games' 'News' 'Streaming Services'\n",
      " 'Photography' 'Photography' 'Games' 'Education' 'Games' 'E-Commerce'\n",
      " 'Food' 'Food' 'Sports' 'Streaming Services' 'E-Commerce' 'Food' 'Sports'\n",
      " 'E-Commerce' 'Law and Government' 'E-Commerce' 'E-Commerce' 'Travel'\n",
      " 'Education' 'Law and Government' 'Law and Government'\n",
      " 'Health and Fitness' 'Education' 'Games' 'Travel' 'Streaming Services'\n",
      " 'Photography' 'Business/Corporate' 'Business/Corporate'\n",
      " 'Business/Corporate' 'Business/Corporate' 'Law and Government' 'Sports'\n",
      " 'Photography' 'Health and Fitness' 'Streaming Services'\n",
      " 'Social Networking and Messaging' 'Streaming Services' 'Education'\n",
      " 'Law and Government' 'Sports' 'Business/Corporate' 'Streaming Services'\n",
      " 'Social Networking and Messaging' 'Law and Government'\n",
      " 'Business/Corporate' 'E-Commerce' 'Education' 'Games' 'Education'\n",
      " 'Travel' 'Sports' 'E-Commerce' 'Health and Fitness'\n",
      " 'Computers and Technology' 'Travel' 'Social Networking and Messaging'\n",
      " 'Games' 'News' 'Social Networking and Messaging' 'Law and Government'\n",
      " 'E-Commerce' 'Travel' 'Business/Corporate' 'Business/Corporate'\n",
      " 'Business/Corporate' 'Education' 'News' 'Games' 'Photography' 'Sports'\n",
      " 'Health and Fitness' 'News' 'Law and Government' 'Food' 'Travel'\n",
      " 'Education' 'Streaming Services' 'Streaming Services'\n",
      " 'Computers and Technology' 'Business/Corporate' 'Sports'\n",
      " 'Social Networking and Messaging' 'Education' 'News' 'Business/Corporate'\n",
      " 'Business/Corporate' 'E-Commerce' 'Streaming Services' 'Education'\n",
      " 'Photography' 'Food' 'Food' 'Streaming Services'\n",
      " 'Computers and Technology' 'Sports' 'Computers and Technology'\n",
      " 'E-Commerce' 'Games' 'Business/Corporate' 'Sports' 'Games'\n",
      " 'Business/Corporate' 'Sports' 'Social Networking and Messaging'\n",
      " 'Education' 'Health and Fitness' 'Food' 'Sports'\n",
      " 'Social Networking and Messaging' 'Social Networking and Messaging'\n",
      " 'Streaming Services' 'Law and Government' 'Health and Fitness'\n",
      " 'Business/Corporate' 'Education' 'Games' 'Travel' 'Law and Government'\n",
      " 'Games' 'Streaming Services' 'Photography' 'Computers and Technology'\n",
      " 'Games' 'News']\n"
     ]
    }
   ],
   "source": [
    "print(y_test)"
   ]
  },
  {
   "cell_type": "code",
   "execution_count": 49,
   "id": "e288ff94",
   "metadata": {
    "execution": {
     "iopub.execute_input": "2021-11-29T07:50:03.159111Z",
     "iopub.status.busy": "2021-11-29T07:50:03.158341Z",
     "iopub.status.idle": "2021-11-29T07:50:03.175763Z",
     "shell.execute_reply": "2021-11-29T07:50:03.176335Z",
     "shell.execute_reply.started": "2021-11-29T07:37:02.852088Z"
    },
    "papermill": {
     "duration": 0.056138,
     "end_time": "2021-11-29T07:50:03.176514",
     "exception": false,
     "start_time": "2021-11-29T07:50:03.120376",
     "status": "completed"
    },
    "tags": []
   },
   "outputs": [
    {
     "name": "stdout",
     "output_type": "stream",
     "text": [
      "(269, 58533)\n",
      "(269,)\n",
      "<class 'scipy.sparse._csr.csr_matrix'>\n"
     ]
    }
   ],
   "source": [
    "print(X_test.shape)\n",
    "print(y_test.shape)\n",
    "print(type(X_test))\n",
    "#print(confusion_matrix(y_test, model_naive.predict(X_test)))"
   ]
  },
  {
   "cell_type": "markdown",
   "id": "b54b3da3",
   "metadata": {
    "papermill": {
     "duration": 0.037236,
     "end_time": "2021-11-29T07:50:03.331278",
     "exception": false,
     "start_time": "2021-11-29T07:50:03.294042",
     "status": "completed"
    },
    "tags": []
   },
   "source": [
    "<h4><B><I>We got 88% accuracy on the test set</I></B></h4>"
   ]
  },
  {
   "cell_type": "markdown",
   "id": "29a471b5",
   "metadata": {
    "papermill": {
     "duration": 0.035868,
     "end_time": "2021-11-29T07:50:03.404781",
     "exception": false,
     "start_time": "2021-11-29T07:50:03.368913",
     "status": "completed"
    },
    "tags": []
   },
   "source": [
    "<h4>Confusion matrix</h4>"
   ]
  },
  {
   "cell_type": "code",
   "execution_count": 50,
   "id": "8256a851",
   "metadata": {
    "execution": {
     "iopub.execute_input": "2021-11-29T07:50:03.576050Z",
     "iopub.status.busy": "2021-11-29T07:50:03.575333Z",
     "iopub.status.idle": "2021-11-29T07:50:05.105287Z",
     "shell.execute_reply": "2021-11-29T07:50:05.105862Z",
     "shell.execute_reply.started": "2021-11-29T07:37:02.902445Z"
    },
    "papermill": {
     "duration": 1.570715,
     "end_time": "2021-11-29T07:50:05.106055",
     "exception": false,
     "start_time": "2021-11-29T07:50:03.535340",
     "status": "completed"
    },
    "tags": []
   },
   "outputs": [
    {
     "data": {
      "text/plain": [
       "Text(431.2222222222223, 0.5, 'predicted label')"
      ]
     },
     "execution_count": 50,
     "metadata": {},
     "output_type": "execute_result"
    },
    {
     "data": {
      "image/png": "[encoded data removed]",
      "text/plain": [
       "<Figure size 1800x1200 with 1 Axes>"
      ]
     },
     "metadata": {},
     "output_type": "display_data"
    }
   ],
   "source": [
    "mat = confusion_matrix(y_test, model_naive.predict(X_test))\n",
    "plt.figure(figsize=(18,12))\n",
    "sns.heatmap(mat.T, square=True, annot=True, fmt='d', cbar=False,xticklabels=categories,yticklabels=categories)\n",
    "plt.xlabel('true label')\n",
    "plt.ylabel('predicted label')"
   ]
  },
  {
   "cell_type": "markdown",
   "id": "89297339",
   "metadata": {},
   "source": [
    "# Testing Data"
   ]
  },
  {
   "cell_type": "code",
   "execution_count": 51,
   "id": "2fab8a20",
   "metadata": {},
   "outputs": [
    {
     "name": "stdout",
     "output_type": "stream",
     "text": [
      "             SITES\n",
      "0      www.msn.com\n",
      "1      www.cnn.com\n",
      "2      weather.com\n",
      "3  www.foxnews.com\n",
      "4      quizlet.com\n"
     ]
    }
   ],
   "source": [
    "data = pd.read_excel('./websites list - sample data.xlsx')\n",
    "data.to_csv('./websites_test.csv',index=False)\n",
    "data=pd.read_csv('./websites_test.csv',index_col=False)\n",
    "print(data.head())"
   ]
  },
  {
   "cell_type": "code",
   "execution_count": 52,
   "id": "67aec1bb",
   "metadata": {
    "scrolled": true
   },
   "outputs": [
    {
     "data": {
      "text/plain": [
       "\"for x in df.index:\\n    print(df['SITES'][x])\""
      ]
     },
     "execution_count": 52,
     "metadata": {},
     "output_type": "execute_result"
    }
   ],
   "source": [
    "df = data.sample(n=5)\n",
    "for x in df.index:\n",
    "    df['SITES'][x] = 'http://'+ df['SITES'][x]\n",
    "'''for x in df.index:\n",
    "    print(df['SITES'][x])'''"
   ]
  },
  {
   "cell_type": "code",
   "execution_count": 53,
   "id": "5ffa77dc",
   "metadata": {},
   "outputs": [],
   "source": [
    "# Web Scraping\n",
    "from bs4 import BeautifulSoup\n",
    "import requests\n",
    "import os\n",
    "# Request to website and download HTML contents\n",
    "def check_meta(x):\n",
    "    url=x\n",
    "    try:\n",
    "        req=requests.get(url)\n",
    "        content=req.text\n",
    "        st=\"\"\n",
    "        soup=BeautifulSoup(content)\n",
    "        f = open(\"./webdata.txt\", \"w\", encoding=\"utf-8\")\n",
    "        for data in soup.find_all({\"meta\":\"content\"}):\n",
    "            sum1 = data.get_text()\n",
    "            st+=sum1\n",
    "        L=st.split()\n",
    "        for i in range(len(L)):\n",
    "            f.writelines(L[i]+\" \")\n",
    "        if os.path.getsize(\"./webdata.txt\") == 0:\n",
    "            headcall(url)\n",
    "        f.close()\n",
    "        f=open(\"./webdata.txt\", \"r\", encoding=\"utf-8\")\n",
    "        s=\"\"\n",
    "        for x in f.readlines():\n",
    "            s+=x\n",
    "        return s\n",
    "    except:\n",
    "        return 'No'\n",
    "def headcall(x):\n",
    "    url=x\n",
    "    try:\n",
    "        req=requests.get(url)\n",
    "        content=req.text\n",
    "        st=\"\"\n",
    "        soup=BeautifulSoup(content)\n",
    "        f = open(\"./webdata.txt\", \"w\", encoding=\"utf-8\")\n",
    "        for data in soup.find_all(\"head\"):\n",
    "            sum1 = data.get_text()\n",
    "            st+=sum1\n",
    "        L=st.split()\n",
    "        for i in range(len(L)):\n",
    "            f.writelines(L[i]+\" \")\n",
    "        f.close()\n",
    "        f=open(\"./webdata.txt\", \"r\", encoding=\"utf-8\")\n",
    "        s=\"\"\n",
    "        for x in f.readlines():\n",
    "            s+=x\n",
    "        return s\n",
    "    except:\n",
    "        return 'No'"
   ]
  },
  {
   "cell_type": "code",
   "execution_count": 54,
   "id": "5f7e7637",
   "metadata": {},
   "outputs": [],
   "source": [
    "def clean(s):\n",
    "    #regular_punct = list(string.punctuation)\n",
    "    stop_words = set(stopwords.words('english'))\n",
    "    s=text_preprocessing(s)\n",
    "    return s"
   ]
  },
  {
   "cell_type": "code",
   "execution_count": 55,
   "id": "54b02f53",
   "metadata": {},
   "outputs": [],
   "source": [
    "def vect(sar):\n",
    "    ip=np.zeros((1,58533))\n",
    "    ip = pd.DataFrame(data=ip,columns = temp.get_feature_names())\n",
    "    for x in sar:\n",
    "        if x in  temp.get_feature_names():\n",
    "            ip[x]+=1\n",
    "    return ip"
   ]
  },
  {
   "cell_type": "code",
   "execution_count": 67,
   "id": "d621f84a",
   "metadata": {
    "scrolled": false
   },
   "outputs": [
    {
     "name": "stdout",
     "output_type": "stream",
     "text": [
      "Website:http://www.basketballnetwork.net\n",
      "Category:Sports\n",
      "\n",
      "Website:http://spinditty.com\n",
      "Category:News Liberal\n",
      "\n",
      "Website:http://worksheets.theteacherscorner.net\n",
      "Category:News Liberal\n",
      "\n",
      "Website:http://www.listal.com\n",
      "Category:Entertainment\n",
      "\n",
      "Website:http://edhrec.com\n",
      "Category:News Liberal\n",
      "\n"
     ]
    }
   ],
   "source": [
    "sp=[\"Sports\",\"Games\"]\n",
    "nw=[\"News\",\"Law and Government\"]\n",
    "nwlib=[\"E-Commerce\",\"Business/Corporate\",\"Education\"]\n",
    "ent=[\"Streaming Services\",\"Social Networking and Messaging\",\"Photography\"]\n",
    "gen=[\"Travel\",\"Food\",\"Health and Fitness\",\"Computers and Technology\"]\n",
    "for x in df.index:\n",
    "    print(\"Website:\"+df[\"SITES\"][x])\n",
    "    s = check_meta(df[\"SITES\"][x])\n",
    "    if s == 'No':\n",
    "        print(\"Website not found\\n\")\n",
    "    else:\n",
    "        s=clean(s)\n",
    "        sar = s.split()\n",
    "        p=vect(sar)\n",
    "        output=model_naive.predict(p)\n",
    "        y=str(output[0])\n",
    "        if y in sp:\n",
    "            print(\"Category:Sports\")\n",
    "        elif y in nw:\n",
    "            print(\"Category:News Conservative\")\n",
    "        elif y in nwlib:\n",
    "            print(\"Category:News Liberal\")\n",
    "        elif y in ent:\n",
    "            print(\"Category:Entertainment\")\n",
    "        else:\n",
    "            print(\"Category:General\")\n",
    "        print()"
   ]
  },
  {
   "cell_type": "code",
   "execution_count": 70,
   "id": "1a6ab49b",
   "metadata": {},
   "outputs": [
    {
     "name": "stdout",
     "output_type": "stream",
     "text": [
      "Enter the URL:www.bmsit.ac.in\n",
      "Website not found\n",
      "\n"
     ]
    }
   ],
   "source": [
    "input_website=input(\"Enter the URL:\")\n",
    "string=\"https://\"+input_website\n",
    "s = check_meta(string)\n",
    "if s == 'No':\n",
    "    print(\"Website not found\\n\")\n",
    "else:\n",
    "    s=clean(s)\n",
    "    sar = s.split()\n",
    "    p=vect(sar)\n",
    "    output=model_naive.predict(p)\n",
    "    y=str(output[0])\n",
    "    if y in sp:\n",
    "        print(\"Category:Sports\")\n",
    "    elif y in nw:\n",
    "        print(\"Category:News Conservative\")\n",
    "    elif y in nwlib:\n",
    "        print(\"Category:News Liberal\")\n",
    "    elif y in ent:\n",
    "        print(\"Category:Entertainment\")\n",
    "    else:\n",
    "        print(\"Category:General\")"
   ]
  },
  {
   "cell_type": "code",
   "execution_count": null,
   "id": "36a962c1",
   "metadata": {},
   "outputs": [],
   "source": []
  },
  {
   "cell_type": "code",
   "execution_count": null,
   "id": "523bd911",
   "metadata": {},
   "outputs": [],
   "source": []
  }
 ],
 "metadata": {
  "kernelspec": {
   "display_name": "Python 3 (ipykernel)",
   "language": "python",
   "name": "python3"
  },
  "language_info": {
   "codemirror_mode": {
    "name": "ipython",
    "version": 3
   },
   "file_extension": ".py",
   "mimetype": "text/x-python",
   "name": "python",
   "nbconvert_exporter": "python",
   "pygments_lexer": "ipython3",
   "version": "3.9.13"
  },
  "papermill": {
   "default_parameters": {},
   "duration": 36.996521,
   "end_time": "2021-11-29T07:50:05.957426",
   "environment_variables": {},
   "exception": null,
   "input_path": "__notebook__.ipynb",
   "output_path": "__notebook__.ipynb",
   "parameters": {},
   "start_time": "2021-11-29T07:49:28.960905",
   "version": "2.3.3"
  }
 },
 "nbformat": 4,
 "nbformat_minor": 5
}
